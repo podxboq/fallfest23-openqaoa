{
  "nbformat": 4,
  "nbformat_minor": 0,
  "metadata": {
    "colab": {
      "provenance": []
    },
    "kernelspec": {
      "name": "python3",
      "display_name": "Python 3"
    },
    "language_info": {
      "name": "python"
    }
  },
  "cells": [
    {
      "cell_type": "code",
      "execution_count": null,
      "metadata": {
        "id": "7WUZL7Rg9Upp"
      },
      "outputs": [],
      "source": [
        "!pip install pennylane"
      ]
    },
    {
      "cell_type": "code",
      "source": [
        "import pennylane as qml\n",
        "from pennylane import numpy as np\n",
        "import matplotlib.pyplot as plt"
      ],
      "metadata": {
        "id": "pij3jS-Z98sP"
      },
      "execution_count": 56,
      "outputs": []
    },
    {
      "cell_type": "code",
      "source": [
        "#Definimos el tamaño del problema\n",
        "numeroUsuarios = 2\n",
        "numeroVoluntarios = 3\n",
        "distancia = [[0 for i in range(numeroUsuarios)] for j in range(numeroVoluntarios)]\n",
        "peticionUsuarios = np.random.randint(0, 2, numeroUsuarios)\n",
        "peticionVoluntarios = np.random.randint(0, 2, numeroVoluntarios)\n",
        "for i in range(0, numeroVoluntarios):\n",
        "  for j in range(0, numeroUsuarios):\n",
        "    distancia[i][j] = np.random.randint(5, 500)"
      ],
      "metadata": {
        "id": "L5m8N7Ls9kXz"
      },
      "execution_count": 31,
      "outputs": []
    },
    {
      "cell_type": "code",
      "source": [
        "print(distancia)"
      ],
      "metadata": {
        "colab": {
          "base_uri": "https://localhost:8080/"
        },
        "id": "-IOQnQRBGVlA",
        "outputId": "56e6cf87-a4cc-4431-c529-3d1ac24a7ef2"
      },
      "execution_count": 32,
      "outputs": [
        {
          "output_type": "stream",
          "name": "stdout",
          "text": [
            "[[88, 256], [236, 93], [93, 420]]\n"
          ]
        }
      ]
    },
    {
      "cell_type": "code",
      "source": [
        "def matrizObjetivo():\n",
        "  objetivo = [[0 for i in range(numeroVoluntarios)] for j in range(numeroVoluntarios)]\n",
        "  for i in range(0, numeroVoluntarios):\n",
        "    for j in range(0, numeroUsuarios):\n",
        "      if peticionVoluntarios[i]*peticionUsuarios[j] == 1:\n",
        "        objetivo[i][j] = distancia[i][j]\n",
        "  return objetivo"
      ],
      "metadata": {
        "id": "_LRX8wgc-0GY"
      },
      "execution_count": 52,
      "outputs": []
    },
    {
      "cell_type": "code",
      "source": [
        "dev = qml.device(\"default.qubit\", wires = range(numeroVoluntarios))"
      ],
      "metadata": {
        "id": "eKUui196HTcB"
      },
      "execution_count": 34,
      "outputs": []
    },
    {
      "cell_type": "code",
      "source": [
        "def U_C(gamma, h, n):\n",
        "  for k in range(n):\n",
        "    qml.RZ(-2 * (-6) * gamma, wires = k)\n",
        "    for l in range(n):\n",
        "      qml.RZ(-2 * (h[k][l]) * gamma, wires = l)\n",
        "      for j in range(l+1, n):\n",
        "          qml.CNOT(wires = [l, j])\n",
        "          qml.RZ(-2 * (-h[k][l] * h[k][j]) * gamma, wires = j)\n",
        "          qml.CNOT(wires = [l, j])"
      ],
      "metadata": {
        "id": "fZDpTURcHfBN"
      },
      "execution_count": 35,
      "outputs": []
    },
    {
      "cell_type": "code",
      "source": [
        "def U_B(beta, n):\n",
        "  for k in range(n):\n",
        "    qml.RX(-2 * beta, wires = k)"
      ],
      "metadata": {
        "id": "DMphZolSHhkV"
      },
      "execution_count": 36,
      "outputs": []
    },
    {
      "cell_type": "code",
      "source": [
        "@qml.qnode(dev)\n",
        "def circuito(gamma, beta, h, n, capas):\n",
        "  for k in range(n):\n",
        "    qml.Hadamard(wires = k)\n",
        "  for k in range(capas):\n",
        "    U_C(gamma, h, n)\n",
        "    U_B(beta, n)\n",
        "  return qml.probs(wires = range(n))"
      ],
      "metadata": {
        "id": "wWAjEqSjHkk1"
      },
      "execution_count": 37,
      "outputs": []
    },
    {
      "cell_type": "code",
      "source": [
        "gamma = 0.15\n",
        "beta = 0.15\n",
        "capas = 3"
      ],
      "metadata": {
        "id": "RA-k70t9HpnH"
      },
      "execution_count": 43,
      "outputs": []
    },
    {
      "cell_type": "code",
      "source": [
        "print(matrizObjetivo())"
      ],
      "metadata": {
        "colab": {
          "base_uri": "https://localhost:8080/"
        },
        "id": "hyqKKf2BKy0c",
        "outputId": "98f54a30-31cf-4984-8dd0-248b8ea2a453"
      },
      "execution_count": 58,
      "outputs": [
        {
          "output_type": "stream",
          "name": "stdout",
          "text": [
            "[[88, 0, 0], [0, 0, 0], [93, 0, 0]]\n"
          ]
        }
      ]
    },
    {
      "cell_type": "code",
      "source": [
        "resultados = circuito(gamma, beta, matrizObjetivo(), numeroVoluntarios, capas)\n",
        "plt.bar(range(2**numeroVoluntarios), resultados)"
      ],
      "metadata": {
        "colab": {
          "base_uri": "https://localhost:8080/",
          "height": 449
        },
        "id": "TI-Dk_i2IBe5",
        "outputId": "51fd7122-3592-41ab-eb4c-53baed4da5ae"
      },
      "execution_count": 57,
      "outputs": [
        {
          "output_type": "execute_result",
          "data": {
            "text/plain": [
              "<BarContainer object of 8 artists>"
            ]
          },
          "metadata": {},
          "execution_count": 57
        },
        {
          "output_type": "display_data",
          "data": {
            "text/plain": [
              "<Figure size 640x480 with 1 Axes>"
            ],
            "image/png": "[encoded data removed]"
          },
          "metadata": {}
        }
      ]
    }
  ]
}